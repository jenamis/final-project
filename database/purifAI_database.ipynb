{
  "nbformat": 4,
  "nbformat_minor": 0,
  "metadata": {
    "colab": {
      "name": "purifAI-database.ipynb",
      "provenance": [],
      "collapsed_sections": []
    },
    "kernelspec": {
      "name": "python3",
      "display_name": "Python 3"
    },
    "language_info": {
      "name": "python"
    }
  },
  "cells": [
    {
      "cell_type": "code",
      "execution_count": 1,
      "metadata": {
        "colab": {
          "base_uri": "https://localhost:8080/"
        },
        "id": "61DFAnMAeqpv",
        "outputId": "b595938f-025c-4d76-980b-82c02b2b7625"
      },
      "outputs": [
        {
          "output_type": "stream",
          "name": "stdout",
          "text": [
            "\r0% [Working]\r            \rHit:1 https://developer.download.nvidia.com/compute/cuda/repos/ubuntu1804/x86_64  InRelease\n",
            "\r0% [Connecting to archive.ubuntu.com] [Connecting to security.ubuntu.com] [Conn\r0% [1 InRelease gpgv 1,581 B] [Connecting to archive.ubuntu.com] [Connecting to\r                                                                               \rHit:2 https://cloud.r-project.org/bin/linux/ubuntu bionic-cran40/ InRelease\n",
            "\r                                                                               \rIgn:3 https://developer.download.nvidia.com/compute/machine-learning/repos/ubuntu1804/x86_64  InRelease\n",
            "Hit:4 https://developer.download.nvidia.com/compute/machine-learning/repos/ubuntu1804/x86_64  Release\n",
            "Hit:5 http://security.ubuntu.com/ubuntu bionic-security InRelease\n",
            "Hit:6 http://ppa.launchpad.net/c2d4u.team/c2d4u4.0+/ubuntu bionic InRelease\n",
            "Hit:7 http://archive.ubuntu.com/ubuntu bionic InRelease\n",
            "Hit:8 http://archive.ubuntu.com/ubuntu bionic-updates InRelease\n",
            "Hit:9 http://ppa.launchpad.net/cran/libgit2/ubuntu bionic InRelease\n",
            "Hit:10 http://archive.ubuntu.com/ubuntu bionic-backports InRelease\n",
            "Hit:12 http://ppa.launchpad.net/deadsnakes/ppa/ubuntu bionic InRelease\n",
            "Hit:13 http://ppa.launchpad.net/graphics-drivers/ppa/ubuntu bionic InRelease\n",
            "Reading package lists... Done\n",
            "Hit:1 https://developer.download.nvidia.com/compute/cuda/repos/ubuntu1804/x86_64  InRelease\n",
            "Hit:2 https://cloud.r-project.org/bin/linux/ubuntu bionic-cran40/ InRelease\n",
            "Ign:3 https://developer.download.nvidia.com/compute/machine-learning/repos/ubuntu1804/x86_64  InRelease\n",
            "Hit:4 https://developer.download.nvidia.com/compute/machine-learning/repos/ubuntu1804/x86_64  Release\n",
            "Hit:5 http://archive.ubuntu.com/ubuntu bionic InRelease\n",
            "Hit:6 http://ppa.launchpad.net/c2d4u.team/c2d4u4.0+/ubuntu bionic InRelease\n",
            "Hit:7 http://security.ubuntu.com/ubuntu bionic-security InRelease\n",
            "Hit:8 http://archive.ubuntu.com/ubuntu bionic-updates InRelease\n",
            "Hit:9 http://archive.ubuntu.com/ubuntu bionic-backports InRelease\n",
            "Hit:10 http://ppa.launchpad.net/cran/libgit2/ubuntu bionic InRelease\n",
            "Hit:12 http://ppa.launchpad.net/deadsnakes/ppa/ubuntu bionic InRelease\n",
            "Hit:13 http://ppa.launchpad.net/graphics-drivers/ppa/ubuntu bionic InRelease\n",
            "Reading package lists... Done\n"
          ]
        }
      ],
      "source": [
        "import os\n",
        "# Find the latest version of spark 3.0  from http://www.apache.org/dist/spark/ and enter as the spark version\n",
        "# For example:\n",
        "spark_version = 'spark-3.2.1'\n",
        "# spark_version = 'spark-3.3.0'\n",
        "os.environ['SPARK_VERSION']=spark_version\n",
        "\n",
        "# Install Spark and Java\n",
        "!apt-get update\n",
        "!apt-get install openjdk-11-jdk-headless -qq > /dev/null\n",
        "!wget -q http://www.apache.org/dist/spark/$SPARK_VERSION/$SPARK_VERSION-bin-hadoop2.7.tgz\n",
        "!tar xf $SPARK_VERSION-bin-hadoop2.7.tgz\n",
        "!pip install -q findspark\n",
        "\n",
        "# Set Environment Variables\n",
        "os.environ[\"JAVA_HOME\"] = \"/usr/lib/jvm/java-11-openjdk-amd64\"\n",
        "os.environ[\"SPARK_HOME\"] = f\"/content/{spark_version}-bin-hadoop2.7\"\n",
        "\n",
        "# Install Spark and Java\n",
        "!apt-get update\n",
        "!apt-get install openjdk-11-jdk-headless -qq > /dev/null\n",
        "!wget -q http://www.apache.org/dist/spark/$SPARK_VERSION/$SPARK_VERSION-bin-hadoop2.7.tgz\n",
        "!tar xf $SPARK_VERSION-bin-hadoop2.7.tgz\n",
        "!pip install -q findspark\n",
        "\n",
        "# Set Environment Variables\n",
        "os.environ[\"JAVA_HOME\"] = \"/usr/lib/jvm/java-11-openjdk-amd64\"\n",
        "os.environ[\"SPARK_HOME\"] = f\"/content/{spark_version}-bin-hadoop2.7\"\n",
        "\n",
        "# Start a SparkSession\n",
        "import findspark\n",
        "findspark.init()"
      ]
    },
    {
      "cell_type": "code",
      "source": [
        "!wget https://jdbc.postgresql.org/download/postgresql-42.2.9.jar\n",
        "from pyspark.sql import SparkSession\n",
        "spark = SparkSession.builder.appName(\"CloudETL\").config(\"spark.driver.extraClassPath\",\"/content/postgresql-42.2.9.jar\").getOrCreate()"
      ],
      "metadata": {
        "id": "HvpheH2LhnpY",
        "colab": {
          "base_uri": "https://localhost:8080/"
        },
        "outputId": "fca71479-471d-4eac-bc78-6016f6377d35"
      },
      "execution_count": 2,
      "outputs": [
        {
          "output_type": "stream",
          "name": "stdout",
          "text": [
            "--2022-06-22 12:08:21--  https://jdbc.postgresql.org/download/postgresql-42.2.9.jar\n",
            "Resolving jdbc.postgresql.org (jdbc.postgresql.org)... 72.32.157.228, 2001:4800:3e1:1::228\n",
            "Connecting to jdbc.postgresql.org (jdbc.postgresql.org)|72.32.157.228|:443... connected.\n",
            "HTTP request sent, awaiting response... 200 OK\n",
            "Length: 914037 (893K) [application/java-archive]\n",
            "Saving to: ‘postgresql-42.2.9.jar.1’\n",
            "\n",
            "postgresql-42.2.9.j 100%[===================>] 892.61K  4.56MB/s    in 0.2s    \n",
            "\n",
            "2022-06-22 12:08:22 (4.56 MB/s) - ‘postgresql-42.2.9.jar.1’ saved [914037/914037]\n",
            "\n"
          ]
        }
      ]
    },
    {
      "cell_type": "code",
      "source": [
        "# Read in outcomes data from cleaned datafiles\n",
        "from pyspark import SparkFiles\n",
        "outcomes_url=\"https://purifai.s3.us-west-1.amazonaws.com/clean-data/cleaned-outcomes.csv\"\n",
        "spark.sparkContext.addFile(outcomes_url)\n",
        "cleaned_outcomes_df = spark.read.csv(SparkFiles.get(\"cleaned-outcomes.csv\"), sep=\",\", header=True, inferSchema=False)\n",
        "\n",
        "# Show outcomes DataFrame\n",
        "cleaned_outcomes_df.show()"
      ],
      "metadata": {
        "id": "1V1f9e3gh8Nw",
        "colab": {
          "base_uri": "https://localhost:8080/"
        },
        "outputId": "42868953-a3e3-4ffc-c83e-c236aa16f21f"
      },
      "execution_count": 3,
      "outputs": [
        {
          "output_type": "stream",
          "name": "stdout",
          "text": [
            "+--------------------+------------------+---------------------+----------+---------------+--------------+-----------+-------------+---------------------+--------------------+------------------+--------------------+--------------+------------------+----------------+-------------------------+-------------------------+-------------+--------------+\n",
            "|           sample_id|      structure_id|preferred_lcms_method|spe_method|         method|spe_successful|crashed_out|sample_status|sample_current_status|   termination_cause|  termination_step| termination_details|reaction_scale|selected_fractions|volume_collected|total_fractions_collected|recovered_sample_dry_mass|percent_yield|percent_purity|\n",
            "+--------------------+------------------+---------------------+----------+---------------+--------------+-----------+-------------+---------------------+--------------------+------------------+--------------------+--------------+------------------+----------------+-------------------------+-------------------------+-------------+--------------+\n",
            "|  MTA0ST2022-051-001|MTA0ST2022-051-001|          Xbridge HpH|       MCX|MCX/Xbridge HpH|          null|       null|       Failed|           Terminated|Challenges of Sam...|Synthesis (SAP1/2)|No conversion (SM...|           0.1|              null|            null|                     null|                     null|       0.0048|          null|\n",
            "|MTA0ST2022-051-00...|MTA0ST2022-051-001|          Xbridge HpH|       HLB|HLB/Xbridge HpH|          TRUE|       null|     Complete|   Completed & Stored|                null|              null|                null|           0.1|           F3L/F4S|           10.17|                        2|                     17.6|         null|        0.0099|\n",
            "|  MTA0ST2022-051-002|MTA0ST2022-051-002|                 null|      null|           null|          null|       null|       Failed|           Terminated|Challenges of Sam...|Synthesis (SAP1/2)|Insufficient COI ...|           0.1|              null|            null|                     null|                     null|       0.0011|          null|\n",
            "|MTA0ST2022-051-00...|MTA0ST2022-051-003|          Xbridge HpH|       MCX|MCX/Xbridge HpH|          TRUE|       null|     Complete|   Completed & Stored|                null|              null|                null|           0.1|           F3L/F1S|           19.46|                        2|                      3.9|       0.0085|        0.0098|\n",
            "|MTA0ST2022-051-00...|MTA0ST2022-051-003|          Xbridge HpH|       MCX|MCX/Xbridge HpH|          null|       null|       Failed|           Terminated|Challenges of Sam...|Synthesis (SAP1/2)|No conversion (SM...|           0.1|           F3L/F1S|            9.78|                        2|                        3|       0.0041|          null|\n",
            "|  MTA0ST2022-051-004|MTA0ST2022-051-004|           Gemini LpH|       MCX| MCX/Gemini LpH|          TRUE|       null|     Complete|   Completed & Stored|                null|              null|                null|           0.1|           F1L/F3S|            11.3|                        1|                     14.5|       0.0015|          0.01|\n",
            "|  MTA0ST2022-051-005|MTA0ST2022-051-005|           Gemini LpH|       MCX| MCX/Gemini LpH|          TRUE|       null|     Complete|   Completed & Stored|                null|              null|                null|           0.1|           F3L/F1S|            8.78|                        1|                      5.2|       0.0016|          0.01|\n",
            "|  MTA0ST2022-051-006|MTA0ST2022-051-006|          Xbridge HpH|       MCX|MCX/Xbridge HpH|          TRUE|       null|     Complete|   Completed & Stored|                null|              null|                null|           0.1|           F3L/F1S|            8.71|                        1|                        6|       0.0015|          0.01|\n",
            "|  MTA0ST2022-051-007|MTA0ST2022-051-007|          Xbridge HpH|       MCX|MCX/Xbridge HpH|          TRUE|       null|     Complete|   Completed & Stored|                null|              null|                null|           0.1|           F3L/F1S|               9|                        1|                      5.1|         null|          0.01|\n",
            "|  MTA0ST2022-051-008|MTA0ST2022-051-008|                 null|      null|           null|          null|       null|  In progress|            Synthesis|                null|              null|                null|           0.1|              null|            null|                     null|                     null|       0.0048|          null|\n",
            "|  MTA0ST2022-051-009|MTA0ST2022-051-009|          Xbridge HpH|       MCX|MCX/Xbridge HpH|          TRUE|       null|     Complete|   Completed & Stored|                null|              null|                null|           0.1|           F1L/F2S|           12.69|                        1|                     17.5|       0.0037|          0.01|\n",
            "|  MTA0ST2022-051-010|MTA0ST2022-051-010|           Gemini LpH|       MCX| MCX/Gemini LpH|          TRUE|       null|     Complete|   Completed & Stored|                null|              null|                null|           0.1|               F3L|            9.89|                        1|                     13.3|       0.0042|        0.0099|\n",
            "|  MTA0ST2022-051-011|MTA0ST2022-051-011|           Gemini LpH|       MCX| MCX/Gemini LpH|          TRUE|       null|     Complete|   Completed & Stored|                null|              null|                null|           0.1|           F3L/F1S|           13.17|                        1|                     16.9|         null|          0.01|\n",
            "|  MTA0ST2022-051-012|MTA0ST2022-051-012|                 null|      null|           null|          null|       null|  In progress|            Synthesis|                null|              null|                null|           0.1|              null|            null|                     null|                     null|         null|          null|\n",
            "|  MTA0ST2022-051-013|MTA0ST2022-051-013|                 null|      null|           null|          null|       null|  In progress|   Awaiting materials|                null|              null|                null|           0.1|              null|            null|                     null|                     null|       0.0028|          null|\n",
            "|  MTA0ST2022-051-014|MTA0ST2022-051-014|          Xbridge HpH|       MCX|MCX/Xbridge HpH|          TRUE|       null|     Complete|   Completed & Stored|                null|              null|                null|           0.1|           F3L/F1S|            12.1|                        1|                      1.8|       0.0035|          0.01|\n",
            "|  MTA0ST2022-051-015|MTA0ST2022-051-015|          Xbridge HpH|       MCX|MCX/Xbridge HpH|          TRUE|       null|     Complete|   Completed & Stored|                null|              null|                null|           0.1|           F1L/F3S|           15.24|                        1|                     12.4|        0.005|          0.01|\n",
            "|  MTA0ST2022-051-016|MTA0ST2022-051-016|           Gemini LpH|       MCX| MCX/Gemini LpH|          TRUE|       null|     Complete|   Completed & Stored|                null|              null|                null|           0.1|           F3L/F1S|           14.09|                        1|                     18.7|       0.0037|          0.01|\n",
            "|  MTA0ST2022-051-017|MTA0ST2022-051-017|          Xbridge HpH|       MCX|MCX/Xbridge HpH|          TRUE|       null|     Complete|   Completed & Stored|                null|              null|                null|           0.1|           F1L/F3S|           25.99|                        2|                     14.2|       0.0056|          0.01|\n",
            "|  MTA0ST2022-051-018|MTA0ST2022-051-018|          Xbridge HpH|       MCX|MCX/Xbridge HpH|          TRUE|       null|     Complete|   Completed & Stored|                null|              null|                null|           0.1|           F3L/F1S|           10.73|                        1|                     19.7|       0.0039|          0.01|\n",
            "+--------------------+------------------+---------------------+----------+---------------+--------------+-----------+-------------+---------------------+--------------------+------------------+--------------------+--------------+------------------+----------------+-------------------------+-------------------------+-------------+--------------+\n",
            "only showing top 20 rows\n",
            "\n"
          ]
        }
      ]
    },
    {
      "cell_type": "code",
      "source": [
        "# Read in structures data from cleaned datafiles\n",
        "structures_url=\"https://purifai.s3.us-west-1.amazonaws.com/clean-data/cleaned-structures.csv\"\n",
        "spark.sparkContext.addFile(structures_url)\n",
        "cleaned_structures_df = spark.read.csv(SparkFiles.get(\"cleaned-structures.csv\"), sep=\",\", header=True, inferSchema=False)\n",
        "\n",
        "# Show outcomes DataFrame\n",
        "cleaned_structures_df.show()"
      ],
      "metadata": {
        "colab": {
          "base_uri": "https://localhost:8080/"
        },
        "id": "IhXE44kQo-dm",
        "outputId": "777c1850-b7d6-4ef2-8c2d-0d7e721ee798"
      },
      "execution_count": 4,
      "outputs": [
        {
          "output_type": "stream",
          "name": "stdout",
          "text": [
            "+---------------+-------+-----------+-----+-----------+--------------+-------+-------+------------+-------------------+----------------+----------------+----------------+-----------+-----------+-------------+-----------+-----------+-----------+-----------+-----------+-----------+-----------+-----------+-----------+--------------+--------------+-----------+-----------+--------------+---------+-------+-----------------------+------------------------+-----------------+----------------------+-----------------------+----------------+-------------+----------+--------------+-----------------+-----------------------+------------------------+-----------------+---------+\n",
            "|   structure_id|  MolWt| ExactMolWt| TPSA|        qed|HeavyAtomMolWt|MolLogP|  MolMR|FractionCSP3|NumValenceElectrons|MaxPartialCharge|MinPartialCharge|FpDensityMorgan1|   BalabanJ|    BertzCT|HallKierAlpha|        Ipc|     Kappa2|  LabuteASA| PEOE_VSA10|  PEOE_VSA2|  SMR_VSA10|   SMR_VSA4| SlogP_VSA2| SlogP_VSA6|MaxEStateIndex|MinEStateIndex|EState_VSA3|EState_VSA8|HeavyAtomCount|NHOHCount|NOCount|NumAliphaticCarbocycles|NumAliphaticHeterocycles|NumAliphaticRings|NumAromaticCarbocycles|NumAromaticHeterocycles|NumAromaticRings|NumHAcceptors|NumHDonors|NumHeteroatoms|NumRotatableBonds|NumSaturatedCarbocycles|NumSaturatedHeterocycles|NumSaturatedRings|RingCount|\n",
            "+---------------+-------+-----------+-----+-----------+--------------+-------+-------+------------+-------------------+----------------+----------------+----------------+-----------+-----------+-------------+-----------+-----------+-----------+-----------+-----------+-----------+-----------+-----------+-----------+--------------+--------------+-----------+-----------+--------------+---------+-------+-----------------------+------------------------+-----------------+----------------------+-----------------------+----------------+-------------+----------+--------------+-----------------+-----------------------+------------------------+-----------------+---------+\n",
            "|00YRB22-045-001| 355.32|355.1256094|75.25| 0.89153316|       339.192| 1.9729|82.0658| 0.533333333|                134|     0.457636727|    -0.355278409|            1.28|1.404448127|779.8448861|        -2.36| 702525.969|5.581735383| 140.275256|17.79236007|4.400694606|  17.176725|11.07361877|50.23978653|29.94308701|   12.79804265|  -4.857612748|25.93115606|24.86116808|            25|        1|      7|                      0|                       2|                2|                     0|                      2|               2|            7|         1|            10|                2|                      0|                       1|                1|        4|\n",
            "|00YRB22-045-002| 355.32|355.1256094|75.25| 0.89153316|       339.192| 1.9729|82.0658| 0.533333333|                134|     0.457636727|    -0.355230643|            1.28|1.404448127|779.8448861|        -2.36| 702525.969|5.581735383| 140.275256|5.817862778|4.400694606| 17.3072015|11.07361877|50.23978653|29.81261051|   12.79722753|  -4.858640033|31.70880978|24.86116808|            25|        1|      7|                      0|                       2|                2|                     0|                      2|               2|            7|         1|            10|                2|                      0|                       1|                1|        4|\n",
            "|00YRB22-045-003|377.323|377.1310887|94.23|0.817936934|       359.179| 0.8882|80.5478| 0.785714286|                144|     0.457636727|     -0.46107773|     1.192307692|1.364958462|677.7446335|        -2.08|1019051.174|6.266905775|145.8607668|13.33769871|          0|11.66002428|11.07361877|63.84936207|5.155712727|   12.81274992|  -4.875832703|51.10372411|20.07596164|            26|        1|      9|                      0|                       3|                3|                     0|                      1|               1|            9|         1|            12|                2|                      0|                       1|                1|        4|\n",
            "|00YRB22-045-004|319.287|319.1256094|75.77|0.881978534|       303.159| 1.0587|70.0818|        0.75|                122|     0.457636727|    -0.353766459|     1.363636364|1.587184524|579.5620133|        -1.84|111727.5116|5.111277501|123.8780768|          0|4.681802935|11.52954778|18.12129076|50.86500472| 11.3525563|   12.69715799|  -4.848630799|25.93115606|20.30536821|            22|        1|      7|                      0|                       2|                2|                     0|                      1|               1|            7|         1|            10|                2|                      0|                       1|                1|        3|\n",
            "|00YRB22-045-005|372.347|372.1409251|80.07|0.852766359|       353.195| 1.7929|84.4708|      0.6875|                142|     0.457636727|    -0.376239817|     1.269230769|1.377835771|719.1817862|        -1.94|1077865.284|6.343541457|147.3596361|          0|          0|11.66002428|11.07361877|52.44597389| 11.3525563|   12.82491324|  -4.861470984|45.09325927|19.96125835|            26|        1|      7|                      0|                       3|                3|                     0|                      1|               1|            7|         1|            10|                2|                      0|                       1|                1|        4|\n",
            "|00YRB22-045-006|369.347|369.1412595|75.77|0.878522435|       351.203| 2.2119|87.5878|      0.5625|                140|     0.457636727|    -0.355277555|     1.307692308| 1.41062731|  857.17753|        -2.36|1025194.288|5.831181285|146.6228342| 11.3345635|          0|22.69342572|18.12129076|50.40619157|23.61576694|    12.8248393|  -4.861471767|25.93115606|24.86116808|            26|        1|      7|                      0|                       2|                2|                     0|                      2|               2|            7|         1|            10|                2|                      0|                       1|                1|        4|\n",
            "|00YRB22-045-007| 355.32|355.1256094|75.25| 0.89153316|       339.192| 1.9729|82.0658| 0.533333333|                134|     0.457636727|    -0.355352994|            1.24|1.402195602|812.8448861|        -2.36|712321.8355|5.581735383| 140.275256|5.817862778|          0|  17.176725|11.07361877|50.23978653|29.94308701|   12.79770023|  -4.858052754|25.93115606|24.86116808|            25|        1|      7|                      0|                       2|                2|                     0|                      2|               2|            7|         1|            10|                2|                      0|                       1|                1|        4|\n",
            "|00YRB22-045-008|367.331|367.1256094|83.73| 0.87673747|       351.203| 2.2684|86.4118|         0.5|                138|     0.457636727|    -0.349961072|     1.192307692|1.412050811|851.1392562|        -2.49|1077865.284|6.044367323|146.0584082|5.516700718|4.983978521|22.69342572|11.07361877|50.82307044|29.68213401|   12.81841724|  -4.869124464|37.39619606|24.94523687|            26|        1|      7|                      0|                       2|                2|                     0|                      2|               2|            7|         1|            10|                2|                      0|                       1|                1|        4|\n",
            "|00YRB22-045-009| 355.32|355.1256094|75.25| 0.89153316|       339.192| 1.9729|82.0658| 0.533333333|                134|     0.457636727|    -0.355223886|            1.28|1.404448127|779.8448861|        -2.36| 702525.969|5.581735383|140.2437096|5.817862778|          0|  17.176725|11.07361877| 50.4691931|29.68213401|   12.79722753|  -4.858640033|25.93115606|24.97587137|            25|        1|      7|                      0|                       2|                2|                     0|                      2|               2|            7|         1|            10|                2|                      0|                       1|                1|        4|\n",
            "|00YRB22-045-010| 358.32|358.1252751|80.07|0.867701708|       341.184| 1.7504|79.6038| 0.666666667|                136|     0.457636727|    -0.370335328|            1.24|1.377807106|703.7522637|        -1.94|712321.8355|5.803424672| 140.994694|          0|          0|11.66002428|11.07361877|45.83909192| 11.3525563|   12.79470916|  -4.861825711|45.09325927|19.96125835|            25|        1|      7|                      0|                       3|                3|                     0|                      1|               1|            7|         1|            10|                2|                      0|                       1|                1|        4|\n",
            "|00YRB22-045-011|305.256| 305.098726|71.09|0.903589916|       291.144| 1.9182|65.5818| 0.666666667|                116|     0.457636727|    -0.449469141|     1.333333333|1.587897183|523.5951136|        -1.77|80598.34634|4.901133599|117.7317769|6.263162996|          0|11.52954778|11.07361877| 40.8551134|22.22966616|   12.65818281|  -4.847554697|31.74901884|14.97727983|            21|        1|      6|                      0|                       2|                2|                     0|                      1|               1|            6|         1|             9|                2|                      0|                       1|                1|        3|\n",
            "|00YRB22-045-012|369.347|369.1412595|75.77|0.878522435|       351.203| 2.2119|87.5878|      0.5625|                140|     0.457636727|    -0.356554789|     1.269230769| 1.41062731|  857.17753|        -2.36|1025194.288|5.831181285|146.5912878| 11.3345635|4.681802935|22.56294922|18.12129076|50.63559814|23.48529044|   12.82668171|  -4.859124464|25.93115606|24.97587137|            26|        1|      7|                      0|                       2|                2|                     0|                      2|               2|            7|         1|            10|                2|                      0|                       1|                1|        4|\n",
            "|00YRB22-045-013| 355.32|355.1256094|75.25| 0.89153316|       339.192| 1.9729|82.0658| 0.533333333|                134|     0.457636727|    -0.369049577|            1.24|1.402195602|812.8448861|        -2.36|712321.8355|5.581735383| 140.275256|6.327320075|4.400694606| 17.0462485|11.07361877|50.23978653|30.07356352|   12.79902024|  -4.856317217|25.93115606|24.86116808|            25|        1|      7|                      0|                       2|                2|                     0|                      2|               2|            7|         1|            10|                2|                      0|                       1|                1|        4|\n",
            "|00YRB22-045-014|367.331|367.1256094|83.73| 0.87673747|       351.203| 2.2684|86.4118|         0.5|                138|     0.457636727|    -0.356558756|     1.192307692|1.412050811|851.1392562|        -2.49|1077865.284|6.044367323|146.0584082|12.14518285|          0|22.43247271|11.07361877|50.82307044|29.94308701|   12.82157967|  -4.865041624|25.93115606| 29.8451466|            26|        1|      7|                      0|                       2|                2|                     0|                      2|               2|            7|         1|            10|                2|                      0|                       1|                1|        4|\n",
            "|00YRB22-045-015|369.347|369.1412595|75.77|0.878522435|       351.203| 2.2119|87.5878|      0.5625|                140|     0.457636727|    -0.356558752|     1.269230769| 1.41062731|  857.17753|        -2.36|1025194.288|5.831181285|146.5912878|5.817862778|4.681802935|22.43247271|18.12129076|50.63559814|23.61576694|   12.82668171|  -4.859124464|25.93115606|24.97587137|            26|        1|      7|                      0|                       2|                2|                     0|                      2|               2|            7|         1|            10|                2|                      0|                       1|                1|        4|\n",
            "|00YRB22-045-016|369.347|369.1412595|75.77|0.878522435|       351.203| 2.2119|87.5878|      0.5625|                140|     0.457636727|    -0.356514437|     1.269230769| 1.41903757|  857.17753|        -2.36|1027886.923|5.831181285|146.5912878|5.817862778|4.681802935|22.43247271|18.12129076|50.63559814|23.61576694|   12.83062729|  -4.859735803|25.93115606|24.97587137|            26|        1|      7|                      0|                       2|                2|                     0|                      2|               2|            7|         1|            10|                2|                      0|                       1|                1|        4|\n",
            "|00YRB22-045-017|369.347|369.1412595|75.77|0.878522435|       351.203| 2.2119|87.5878|      0.5625|                140|     0.457636727|    -0.356558741|     1.307692308|1.409634635|  857.17753|        -2.36|973517.7535|5.831181285|146.5912878| 11.3345635|4.681802935|22.43247271|18.12129076|50.63559814|23.61576694|   12.82668171|  -4.859124464|25.93115606|24.97587137|            26|        1|      7|                      0|                       2|                2|                     0|                      2|               2|            7|         1|            10|                2|                      0|                       1|                1|        4|\n",
            "|00YRB22-045-018|369.347|369.1412595|75.77|0.878522435|       351.203| 2.2119|87.5878|      0.5625|                140|     0.457636727|    -0.356513293|     1.307692308|1.409634635|  857.17753|        -2.36|973517.7535|5.831181285|146.5912878|5.817862778|4.681802935|22.43247271|18.12129076|50.63559814|23.61576694|   12.82586659|  -4.860151749|25.93115606|24.97587137|            26|        1|      7|                      0|                       2|                2|                     0|                      2|               2|            7|         1|            10|                2|                      0|                       1|                1|        4|\n",
            "|00YRB22-045-019| 355.32|355.1256094|75.25| 0.89153316|       339.192| 1.9729|82.0658| 0.533333333|                134|     0.457636727|    -0.370083904|            1.28|1.402195602|812.8448861|        -2.36|712321.8355|5.581735383|140.2437096|          0|          0| 17.0462485|11.07361877| 50.4691931|29.81261051|   12.79854755|  -4.856904496|25.93115606|24.97587137|            25|        1|      7|                      0|                       2|                2|                     0|                      2|               2|            7|         1|            10|                2|                      0|                       1|                1|        4|\n",
            "|00YRB22-045-020|359.352|359.1569095|75.77|0.872339203|       339.192|  1.858|82.0388|         0.8|                138|     0.457636727|    -0.353530783|            1.16|1.388553391|681.1969722|        -1.84|719890.6316|5.856664561| 141.967072|          0|          0|11.52954778|11.07361877|50.86500472|5.155712727|   12.81963508|  -4.847106761|31.64284106|25.20527795|            25|        1|      7|                      0|                       3|                3|                     0|                      1|               1|            7|         1|            10|                2|                      0|                       1|                1|        4|\n",
            "+---------------+-------+-----------+-----+-----------+--------------+-------+-------+------------+-------------------+----------------+----------------+----------------+-----------+-----------+-------------+-----------+-----------+-----------+-----------+-----------+-----------+-----------+-----------+-----------+--------------+--------------+-----------+-----------+--------------+---------+-------+-----------------------+------------------------+-----------------+----------------------+-----------------------+----------------+-------------+----------+--------------+-----------------+-----------------------+------------------------+-----------------+---------+\n",
            "only showing top 20 rows\n",
            "\n"
          ]
        }
      ]
    },
    {
      "cell_type": "code",
      "source": [
        "# Configure settings for RDS\n",
        "# from './config.py' import db_password\n",
        "mode = \"append\"\n",
        "jdbc_url=\"jdbc:postgresql://purifai.ceoinb9nwfxg.us-west-1.rds.amazonaws.com:5432/postgres\"\n",
        "config = {\"user\":\"postgres\", \n",
        "          \"password\": \"purifai2022\", \n",
        "          \"driver\":\"org.postgresql.Driver\"}"
      ],
      "metadata": {
        "id": "MPbFINv3pj79"
      },
      "execution_count": 6,
      "outputs": []
    },
    {
      "cell_type": "code",
      "source": [
        "# Write DataFrame to active_user table in RDS\n",
        "\n",
        "cleaned_outcomes_df.write.jdbc(url=jdbc_url, table='outcomes', mode=mode, properties=config)\n",
        "cleaned_structures_df.write.jdbc(url=jdbc_url, table='structures', mode=mode, properties=config)\n",
        "# SPE_analysis_df.write.jdbc(url=jdbc_url, table='SPE_analysis', mode=mode, properties=config)"
      ],
      "metadata": {
        "id": "YlLqIOpXtZzv"
      },
      "execution_count": 8,
      "outputs": []
    }
  ]
}