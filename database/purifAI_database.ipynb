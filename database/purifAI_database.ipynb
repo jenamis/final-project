{
  "nbformat": 4,
  "nbformat_minor": 0,
  "metadata": {
    "colab": {
      "name": "purifAI-database.ipynb",
      "provenance": [],
      "collapsed_sections": []
    },
    "kernelspec": {
      "name": "python3",
      "display_name": "Python 3"
    },
    "language_info": {
      "name": "python"
    }
  },
  "cells": [
    {
      "cell_type": "code",
      "execution_count": null,
      "metadata": {
        "colab": {
          "base_uri": "https://localhost:8080/"
        },
        "id": "61DFAnMAeqpv",
        "outputId": "aec98843-c5a4-411e-e03d-461e220be3b2"
      },
      "outputs": [
        {
          "output_type": "stream",
          "name": "stdout",
          "text": [
            "\r0% [Working]\r            \rHit:1 https://developer.download.nvidia.com/compute/cuda/repos/ubuntu1804/x86_64  InRelease\n",
            "Hit:2 https://cloud.r-project.org/bin/linux/ubuntu bionic-cran40/ InRelease\n",
            "Hit:3 http://security.ubuntu.com/ubuntu bionic-security InRelease\n",
            "Hit:4 http://archive.ubuntu.com/ubuntu bionic InRelease\n",
            "Ign:5 https://developer.download.nvidia.com/compute/machine-learning/repos/ubuntu1804/x86_64  InRelease\n",
            "Hit:6 https://developer.download.nvidia.com/compute/machine-learning/repos/ubuntu1804/x86_64  Release\n",
            "Hit:7 http://archive.ubuntu.com/ubuntu bionic-updates InRelease\n",
            "Hit:8 http://ppa.launchpad.net/c2d4u.team/c2d4u4.0+/ubuntu bionic InRelease\n",
            "Hit:9 http://archive.ubuntu.com/ubuntu bionic-backports InRelease\n",
            "Hit:10 http://ppa.launchpad.net/cran/libgit2/ubuntu bionic InRelease\n",
            "Hit:11 http://ppa.launchpad.net/deadsnakes/ppa/ubuntu bionic InRelease\n",
            "Hit:12 http://ppa.launchpad.net/graphics-drivers/ppa/ubuntu bionic InRelease\n",
            "Reading package lists... Done\n",
            "Hit:1 https://developer.download.nvidia.com/compute/cuda/repos/ubuntu1804/x86_64  InRelease\n",
            "Hit:2 https://cloud.r-project.org/bin/linux/ubuntu bionic-cran40/ InRelease\n",
            "Hit:3 http://archive.ubuntu.com/ubuntu bionic InRelease\n",
            "Ign:4 https://developer.download.nvidia.com/compute/machine-learning/repos/ubuntu1804/x86_64  InRelease\n",
            "Hit:5 http://security.ubuntu.com/ubuntu bionic-security InRelease\n",
            "Hit:6 https://developer.download.nvidia.com/compute/machine-learning/repos/ubuntu1804/x86_64  Release\n",
            "Hit:7 http://archive.ubuntu.com/ubuntu bionic-updates InRelease\n",
            "Hit:8 http://archive.ubuntu.com/ubuntu bionic-backports InRelease\n",
            "Hit:9 http://ppa.launchpad.net/c2d4u.team/c2d4u4.0+/ubuntu bionic InRelease\n",
            "Hit:10 http://ppa.launchpad.net/cran/libgit2/ubuntu bionic InRelease\n",
            "Hit:11 http://ppa.launchpad.net/deadsnakes/ppa/ubuntu bionic InRelease\n",
            "Hit:13 http://ppa.launchpad.net/graphics-drivers/ppa/ubuntu bionic InRelease\n",
            "Reading package lists... Done\n"
          ]
        }
      ],
      "source": [
        "import os\n",
        "# Find the latest version of spark 3.0  from http://www.apache.org/dist/spark/ and enter as the spark version\n",
        "# For example:\n",
        "spark_version = 'spark-3.2.1'\n",
        "# spark_version = 'spark-3.3.0'\n",
        "os.environ['SPARK_VERSION']=spark_version\n",
        "\n",
        "# Install Spark and Java\n",
        "!apt-get update\n",
        "!apt-get install openjdk-11-jdk-headless -qq > /dev/null\n",
        "!wget -q http://www.apache.org/dist/spark/$SPARK_VERSION/$SPARK_VERSION-bin-hadoop2.7.tgz\n",
        "!tar xf $SPARK_VERSION-bin-hadoop2.7.tgz\n",
        "!pip install -q findspark\n",
        "\n",
        "# Set Environment Variables\n",
        "os.environ[\"JAVA_HOME\"] = \"/usr/lib/jvm/java-11-openjdk-amd64\"\n",
        "os.environ[\"SPARK_HOME\"] = f\"/content/{spark_version}-bin-hadoop2.7\"\n",
        "\n",
        "# Install Spark and Java\n",
        "!apt-get update\n",
        "!apt-get install openjdk-11-jdk-headless -qq > /dev/null\n",
        "!wget -q http://www.apache.org/dist/spark/$SPARK_VERSION/$SPARK_VERSION-bin-hadoop2.7.tgz\n",
        "!tar xf $SPARK_VERSION-bin-hadoop2.7.tgz\n",
        "!pip install -q findspark\n",
        "\n",
        "# Set Environment Variables\n",
        "os.environ[\"JAVA_HOME\"] = \"/usr/lib/jvm/java-11-openjdk-amd64\"\n",
        "os.environ[\"SPARK_HOME\"] = f\"/content/{spark_version}-bin-hadoop2.7\"\n",
        "\n",
        "# Start a SparkSession\n",
        "import findspark\n",
        "findspark.init()"
      ]
    },
    {
      "cell_type": "code",
      "source": [
        "!wget https://jdbc.postgresql.org/download/postgresql-42.2.9.jar\n",
        "from pyspark.sql import SparkSession\n",
        "spark = SparkSession.builder.appName(\"CloudETL\").config(\"spark.driver.extraClassPath\",\"/content/postgresql-42.2.9.jar\").getOrCreate()"
      ],
      "metadata": {
        "id": "HvpheH2LhnpY",
        "colab": {
          "base_uri": "https://localhost:8080/"
        },
        "outputId": "7a308ad0-883b-4db3-fedf-f505c50e4dea"
      },
      "execution_count": null,
      "outputs": [
        {
          "output_type": "stream",
          "name": "stdout",
          "text": [
            "--2022-06-24 03:06:49--  https://jdbc.postgresql.org/download/postgresql-42.2.9.jar\n",
            "Resolving jdbc.postgresql.org (jdbc.postgresql.org)... 72.32.157.228, 2001:4800:3e1:1::228\n",
            "Connecting to jdbc.postgresql.org (jdbc.postgresql.org)|72.32.157.228|:443... connected.\n",
            "HTTP request sent, awaiting response... 200 OK\n",
            "Length: 914037 (893K) [application/java-archive]\n",
            "Saving to: ‘postgresql-42.2.9.jar.2’\n",
            "\n",
            "postgresql-42.2.9.j 100%[===================>] 892.61K  4.49MB/s    in 0.2s    \n",
            "\n",
            "2022-06-24 03:06:49 (4.49 MB/s) - ‘postgresql-42.2.9.jar.2’ saved [914037/914037]\n",
            "\n"
          ]
        }
      ]
    },
    {
      "cell_type": "code",
      "source": [
        "# Read in outcomes data from cleaned datafiles\n",
        "from pyspark import SparkFiles\n",
        "outcomes_url=\"https://purifai.s3.us-west-1.amazonaws.com/clean-data/cleaned-outcomes.csv\"\n",
        "spark.sparkContext.addFile(outcomes_url)\n",
        "cleaned_outcomes_df = spark.read.csv(SparkFiles.get(\"cleaned-outcomes.csv\"), sep=\",\", header=True, inferSchema=True)\n",
        "\n",
        "# Show outcomes DataFrame\n",
        "cleaned_outcomes_df = cleaned_outcomes_df.drop_duplicates(['SAMPLE_ID'])\n",
        "cleaned_outcomes_df.show()"
      ],
      "metadata": {
        "id": "1V1f9e3gh8Nw",
        "colab": {
          "base_uri": "https://localhost:8080/"
        },
        "outputId": "e024e919-9172-4732-af14-7fe30f2f9e0c"
      },
      "execution_count": null,
      "outputs": [
        {
          "output_type": "stream",
          "name": "stdout",
          "text": [
            "+------------------+---------------+---------------------+----------+---------------+--------------+-----------+-------------+---------------------+--------------------+--------------------+--------------------+--------------+------------------+----------------+-------------------------+-------------------------+-------------+--------------+\n",
            "|         sample_id|   structure_id|preferred_lcms_method|spe_method|         method|spe_successful|crashed_out|sample_status|sample_current_status|   termination_cause|    termination_step| termination_details|reaction_scale|selected_fractions|volume_collected|total_fractions_collected|recovered_sample_dry_mass|percent_yield|percent_purity|\n",
            "+------------------+---------------+---------------------+----------+---------------+--------------+-----------+-------------+---------------------+--------------------+--------------------+--------------------+--------------+------------------+----------------+-------------------------+-------------------------+-------------+--------------+\n",
            "|   00YLL22-042-001|00YLL22-042-001|           Gemini LpH|       MCX| MCX/Gemini LpH|          null|       null|       Failed|       Repurification|                null|                null|                null|           0.1|           F3L/F4S|           12.18|                        5|                      7.4|       0.0017|        0.0071|\n",
            "|00YLL22-042-001_RP|00YLL22-042-001|           Gemini LpH|       MCX| MCX/Gemini LpH|          null|       null|       Failed|           Terminated|                null|                null|                null|           0.1|           F3L/F4S|           19.51|                        4|                      4.8|       0.0024|        0.0085|\n",
            "|   00YLL22-042-002|00YLL22-042-002|           Gemini LpH|       MCX| MCX/Gemini LpH|          true|       null|     Complete|  Completed & Shipped|                null|                null|                null|           0.1|           F3L/F4S|            8.11|                        1|                      1.7|       0.0047|        0.0098|\n",
            "|   00YLL22-042-003|00YLL22-042-003|          Xbridge HpH|       MCX|MCX/Xbridge HpH|          true|       null|     Complete|  Completed & Shipped|                null|                null|                null|           0.1|           F3L/F4S|           21.52|                        1|                      2.9|       0.0053|          0.01|\n",
            "|   00YLL22-042-004|00YLL22-042-004|          Xbridge HpH|       MCX|MCX/Xbridge HpH|          true|       null|     Complete|  Completed & Shipped|                null|                null|                null|           0.1|               F3L|           14.57|                        1|                     22.8|       0.0042|          0.01|\n",
            "|   00YLL22-042-005|00YLL22-042-005|          Xbridge HpH|       MCX|MCX/Xbridge HpH|          true|       null|     Complete|  Completed & Shipped|                null|                null|                null|           0.1|           F3L/F1S|           19.08|                        1|                     18.0|         null|        0.0099|\n",
            "|   00YLL22-042-006|00YLL22-042-006|                 null|      null|           null|          null|       null|       Failed|           Terminated|Materials unavail...|Material(s) Procu...|Materials commerc...|           0.1|              null|            null|                     null|                     null|       0.0044|          null|\n",
            "|   00YLL22-042-007|00YLL22-042-007|          Xbridge HpH|       MCX|MCX/Xbridge HpH|          null|       null|       Failed|       Repurification|                null|                null|                null|           0.1|               F3L|           26.52|                        1|                     19.9|       0.0015|        0.0053|\n",
            "|00YLL22-042-007_RP|00YLL22-042-007|          Xbridge HpH|       MCX|MCX/Xbridge HpH|          null|       null|       Failed|           Terminated|                null|                null|                null|           0.1|               F3L|           10.18|                        1|                      4.7|       0.0059|        0.0088|\n",
            "|   00YLL22-042-008|00YLL22-042-008|          Xbridge HpH|       MCX|MCX/Xbridge HpH|          true|       null|     Complete|  Completed & Shipped|                null|                null|                null|           0.1|               F3L|           14.49|                        1|                     25.7|         null|          0.01|\n",
            "|   00YLL22-042-009|00YLL22-042-009|                 null|      null|           null|          null|       null|       Failed|           Terminated|Challenges of Sam...|  Synthesis (SAP1/2)|Insufficient COI ...|           0.1|              null|            null|                     null|                     null|       0.0025|          null|\n",
            "|   00YLL22-042-010|00YLL22-042-010|          Xbridge HpH|       MCX|MCX/Xbridge HpH|          true|       null|     Complete|  Completed & Shipped|                null|                null|                null|           0.1|           F3L/F1S|            8.48|                        1|                     11.7|         null|        0.0099|\n",
            "|   00YLL22-042-011|00YLL22-042-011|                 null|      null|           null|          null|       null|       Failed|           Terminated|Materials unavail...|Material(s) Procu...|Materials commerc...|           0.1|              null|            null|                     null|                     null|         null|          null|\n",
            "|   00YLL22-042-012|00YLL22-042-012|                 null|      null|           null|          null|       null|       Failed|           Terminated|Materials unavail...|Material(s) Procu...|Materials commerc...|           0.1|              null|            null|                     null|                     null|         null|          null|\n",
            "|   00YLL22-042-013|00YLL22-042-013|                 null|      null|           null|          null|       null|       Failed|           Terminated|Materials unavail...|Material(s) Procu...|Materials commerc...|           0.1|              null|            null|                     null|                     null|       0.0028|          null|\n",
            "|   00YLL22-042-014|00YLL22-042-014|          Xbridge HpH|       MCX|MCX/Xbridge HpH|          true|       null|     Complete|  Completed & Shipped|                null|                null|                null|           0.1|           F3L/F1S|           13.66|                        1|                     12.5|         null|          0.01|\n",
            "|   00YLL22-042-015|00YLL22-042-015|           Gemini LpH|       HLB| HLB/Gemini LpH|          null|       null|       Failed|           Terminated|System/Automation...|      PurLCMS (SAP6)|LCMS detection issue|           0.1|           F1L/F3S|            null|                        2|                     null|       0.0017|          null|\n",
            "|   00YLL22-042-016|00YLL22-042-016|           Gemini LpH|       MCX| MCX/Gemini LpH|          true|       null|     Complete|  Completed & Shipped|                null|                null|                null|           0.1|           F3L/F1S|            8.53|                        2|                      7.5|       0.0019|          0.01|\n",
            "|   00YLL22-042-017|00YLL22-042-017|           Gemini LpH|       MCX| MCX/Gemini LpH|          true|       null|     Complete|  Completed & Shipped|                null|                null|                null|           0.1|           F3L/F1S|            8.43|                        1|                      8.5|       0.0025|        0.0098|\n",
            "|   00YLL22-042-018|00YLL22-042-018|           Gemini LpH|       MCX| MCX/Gemini LpH|          true|       null|     Complete|  Completed & Shipped|                null|                null|                null|           0.1|           F3L/F1S|           10.83|                        1|                      9.5|        0.006|          0.01|\n",
            "+------------------+---------------+---------------------+----------+---------------+--------------+-----------+-------------+---------------------+--------------------+--------------------+--------------------+--------------+------------------+----------------+-------------------------+-------------------------+-------------+--------------+\n",
            "only showing top 20 rows\n",
            "\n"
          ]
        }
      ]
    },
    {
      "cell_type": "code",
      "source": [
        "# Read in structures data from cleaned datafiles\n",
        "structures_url=\"https://purifai.s3.us-west-1.amazonaws.com/clean-data/cleaned-structures.csv\"\n",
        "spark.sparkContext.addFile(structures_url)\n",
        "cleaned_structures_df = spark.read.csv(SparkFiles.get(\"cleaned-structures.csv\"), sep=\",\", header=True, inferSchema=True)\n",
        "\n",
        "# Show outcomes DataFrame\n",
        "cleaned_structures_df = cleaned_structures_df.drop_duplicates(['STRUCTURE_ID'])\n",
        "cleaned_structures_df.show()\n"
      ],
      "metadata": {
        "colab": {
          "base_uri": "https://localhost:8080/"
        },
        "id": "IhXE44kQo-dm",
        "outputId": "4b2cbfc6-ba2e-4098-afd5-11a38f841674"
      },
      "execution_count": null,
      "outputs": [
        {
          "output_type": "stream",
          "name": "stdout",
          "text": [
            "+------------------+-------+-----------+-----+-----------+--------------+-------+--------+------------+-------------------+----------------+----------------+----------------+-----------+-----------+-------------+-------------+-----------+-----------+-----------+-----------+-----------+-----------+-----------+-----------+--------------+--------------+-----------+-----------+--------------+---------+-------+-----------------------+------------------------+-----------------+----------------------+-----------------------+----------------+-------------+----------+--------------+-----------------+-----------------------+------------------------+-----------------+---------+\n",
            "|      structure_id|  MolWt| ExactMolWt| TPSA|        qed|HeavyAtomMolWt|MolLogP|   MolMR|FractionCSP3|NumValenceElectrons|MaxPartialCharge|MinPartialCharge|FpDensityMorgan1|   BalabanJ|    BertzCT|HallKierAlpha|          Ipc|     Kappa2|  LabuteASA| PEOE_VSA10|  PEOE_VSA2|  SMR_VSA10|   SMR_VSA4| SlogP_VSA2| SlogP_VSA6|MaxEStateIndex|MinEStateIndex|EState_VSA3|EState_VSA8|HeavyAtomCount|NHOHCount|NOCount|NumAliphaticCarbocycles|NumAliphaticHeterocycles|NumAliphaticRings|NumAromaticCarbocycles|NumAromaticHeterocycles|NumAromaticRings|NumHAcceptors|NumHDonors|NumHeteroatoms|NumRotatableBonds|NumSaturatedCarbocycles|NumSaturatedHeterocycles|NumSaturatedRings|RingCount|\n",
            "+------------------+-------+-----------+-----+-----------+--------------+-------+--------+------------+-------------------+----------------+----------------+----------------+-----------+-----------+-------------+-------------+-----------+-----------+-----------+-----------+-----------+-----------+-----------+-----------+--------------+--------------+-----------+-----------+--------------+---------+-------+-----------------------+------------------------+-----------------+----------------------+-----------------------+----------------+-------------+----------+--------------+-----------------+-----------------------+------------------------+-----------------+---------+\n",
            "|   00YRB22-047-004|365.352|365.1562408|83.39|0.778939019|       343.176| 1.6142| 80.8115| 0.866666667|                142|     0.457636727|    -0.381289765|            1.24|1.466040901|528.6048479|        -1.55|  466809.0938|6.986799011|142.6694565|        0.0|        0.0|11.74279952|11.07361877|66.05776388|5.155712727|   12.75762196|  -4.886360408|39.14491999|15.31008991|            25|        2|      7|                      0|                       3|                3|                     0|                      0|               0|            5|         2|            10|                2|                      0|                       2|                2|        3|\n",
            "|   00YRB22-047-008|443.426|443.1780389|99.52|0.743213284|       419.234| 2.1893|104.7265| 0.631578947|                170|     0.457636727|     -0.37777588|     1.193548387|1.260156147|820.8273054|         -2.6|1.160749855E7|8.499663515|176.3410903|5.817862778|        0.0|23.24804857|11.07361877|78.08941438|23.48529044|   12.86834308|  -4.912501258|44.83230626|25.19397817|            31|        2|      9|                      0|                       3|                3|                     0|                      1|               1|            7|         2|            12|                3|                      0|                       2|                2|        4|\n",
            "|   00YRB22-059-052|505.543|505.0741681|88.16|0.366812216|       487.399| 5.3922|125.0687| 0.130434783|                176|     0.415920626|    -0.347961066|     1.029411765|1.473779665|1481.594595|        -3.44|3.410264976E7|9.069743783|196.9302868|        0.0|4.794537184|48.11678413|        0.0|25.56472442|71.62552123|   12.86759413|  -4.449322388|32.16246837|15.61755573|            34|        2|      6|                      0|                       0|                0|                     3|                      1|               4|            6|         2|            11|                6|                      0|                       0|                0|        4|\n",
            "|   00YRB22-059-120|443.454|443.1027658| 79.8|0.453657303|       427.326| 4.6472|111.5929| 0.142857143|                158|     0.415920626|    -0.355830015|     1.064516129|1.412842571|1210.597363|        -3.53| 1.28095834E7|8.683155376|178.7441844|6.327320075|4.794537184|32.59214472|        0.0|20.85911529|61.05510019|   12.82993198|  -4.420206717|22.80321787|25.58551277|            31|        2|      6|                      0|                       0|                0|                     2|                      2|               4|            6|         2|            10|                6|                      0|                       0|                0|        4|\n",
            "|       EPYRB27-049|447.506|447.1845865|66.84|0.573706468|       421.298|5.05914|123.1683| 0.259259259|                170|     0.312985071|    -0.493299614|     1.060606061|1.881403224|1205.243273|        -3.67|2.508279847E7|9.059250062|191.9804317|5.917906046|9.589074368|11.87648502|        0.0|35.53747609|60.66367068|   14.74647999|  -1.077777602|28.67462759|        0.0|            33|        1|      5|                      0|                       1|                1|                     3|                      0|               3|            3|         1|             6|                6|                      0|                       0|                0|        4|\n",
            "|     PNL21-039-034|816.881|816.3247031|154.4|0.074169942|       773.537| 8.6797|223.6496| 0.195652174|                308|     0.392540707|    -0.477638992|     0.716666667|1.129558427|2515.000688|        -7.22|      1.04E13|18.14576806|344.2047322|6.041840829| 14.2708773|35.18955181|7.047671983|  56.458856|133.7210285|   14.07182559|  -4.373691132|23.23511088|26.36583622|            60|        5|     11|                      0|                       0|                0|                     5|                      1|               6|            6|         5|            14|               14|                      0|                       0|                0|        6|\n",
            "|   00YRP22-080-024| 396.23|395.0439613|110.5|0.531841619|        381.11| 2.7584| 97.9773| 0.117647059|                136|     0.340243049|    -0.451918167|     1.038461538|1.768593756|842.5077422|        -2.77|  476382.4261|9.073582002|158.9574669|        0.0|10.11132579|46.79686558|        0.0|24.51448149|42.46456948|   11.87131085|  -0.797544204|10.04526663|5.316788604|            26|        4|      7|                      0|                       0|                0|                     2|                      0|               2|            5|         3|             9|                5|                      0|                       0|                0|        2|\n",
            "|   00YRP22-074-024|601.769|601.2610423|96.02|0.309811928|       562.457|5.15252| 164.969| 0.411764706|                226|     0.303584202|    -0.493515754|     0.953488372|1.411926464|1598.210622|        -3.69|9.382452123E9|12.12843023|253.7694443|5.749511833|9.589074368|22.02368863|5.917906046|55.17551777|72.79640482|   14.34645124|  -4.082520984|54.47498875|4.722094864|            43|        1|      8|                      2|                       1|                3|                     3|                      0|               3|            5|         1|             9|               12|                      2|                       0|                2|        6|\n",
            "|   00YLL22-042-035|  423.3|422.0912459|72.38| 0.61773477|        403.14| 3.3434|107.6517| 0.368421053|                148|     0.248481494|    -0.382297408|     1.285714286|1.706041925|1000.690341|        -2.06|  3930347.479|8.126207151|171.6552402|6.606881965|9.893218992|40.01198444|        0.0|59.04675257|24.52642128|   12.59025514|  -0.046405415|42.89329977|14.76446326|            28|        1|      7|                      0|                       1|                1|                     1|                      2|               3|            5|         1|             9|                6|                      0|                       0|                0|        4|\n",
            "|   00YLL22-043-020|305.297|305.0912746|104.5|0.743630669|       294.209|2.19198| 81.1042|      0.0625|                112|     0.337342171|    -0.465417519|     1.173913043|1.971474376|893.3341062|        -3.53|  302915.6347|6.071664935|131.1130764|11.76314931|5.098681808|5.969305288|        0.0|33.47383006|42.46456948|   11.45482678|  -0.388466489|22.64523548|25.13159019|            23|        1|      7|                      0|                       0|                0|                     1|                      2|               3|            6|         1|             7|                3|                      0|                       0|                0|        3|\n",
            "|   00YRB22-058-014|472.296|471.0725761|130.5|0.482783373|       457.176|2.42008|114.1862| 0.263157895|                162|     0.293258413|    -0.477964896|           1.375|1.721407455|1384.430746|        -3.62|3.332133832E7|7.814134011|190.6098633|11.81873315|9.893218992|40.01198444|7.047671983|58.93044603|18.46005421|   13.06070801|  -0.280339754| 39.7872162|25.72281562|            32|        1|     11|                      0|                       1|                1|                     1|                      3|               4|            9|         1|            13|                4|                      0|                       0|                0|        5|\n",
            "|MTA0ST2022-052-021|385.811|385.0941671|102.2|0.690346404|       369.683| 1.2272|102.5529| 0.222222222|                138|     0.325796621|     -0.36791915|     1.074074074|1.510823704|1103.285531|        -3.13|  1657263.314| 6.88131216|157.9554851|5.693927995|19.55703141|34.09843083|        0.0|51.93805065|46.11775328|   12.53139243|  -0.690832423|31.20165894|19.85184529|            27|        2|      8|                      0|                       1|                1|                     1|                      2|               3|            5|         2|             9|                2|                      0|                       1|                1|        4|\n",
            "|     PNL21-039-032|784.864|784.3184749|154.4|0.074657914|       742.528| 8.5125|218.8476| 0.177777778|                296|     0.335200661|    -0.477638992|      0.75862069|1.135608966|2429.372246|        -7.15|      5.43E12|17.75648224|333.6742547|6.041840829| 14.2708773|35.18955181|7.047671983|50.28255748|133.7210285|   14.05854393|  -2.599924537|23.35904566|26.36583622|            58|        5|     11|                      0|                       0|                0|                     5|                      1|               6|            6|         5|            13|               14|                      0|                       0|                0|        6|\n",
            "|   02ADI22-072-013|468.583|468.1943598|125.1|0.407136168|       440.359|4.30742|130.5966| 0.260869565|                174|     0.240616949|    -0.339811902|     0.939393939|1.785456739|1251.933518|         -3.5|1.131792167E7|9.552631579| 193.661229|5.817862778|4.794537184|44.75883177|        0.0|29.83185901|59.62326359|   12.66203886|  -3.664279839|23.14097461|30.64041772|            33|        4|      9|                      0|                       0|                0|                     2|                      1|               3|            7|         4|            10|                7|                      0|                       0|                0|        3|\n",
            "|   00YRP22-079-014|417.488|417.1964886| 64.0|0.434952519|       393.296|5.71752|120.7624|        0.25|                158|     0.209496532|    -0.381288975|     0.903225806|1.574821578|1215.801817|        -3.45|2.215761856E7|8.353521058|179.6483105|17.15178434|4.567099648|34.30485255|        0.0|27.74882062|60.66367068|   14.30376848|  -0.316711754|24.84948948|28.19078112|            31|        2|      6|                      0|                       1|                1|                     2|                      2|               4|            6|         2|             7|                5|                      0|                       1|                1|        5|\n",
            "|   00YRP22-079-041|478.528|478.1387367|76.89|0.315181137|       458.368| 6.1579|129.1614| 0.208333333|                172|     0.209496532|    -0.381288975|     0.911764706|1.396084117|1493.932472|        -3.63|1.236250329E8|8.619011701|196.9905795|22.96900518|4.567099648|55.30243126|        0.0|32.73279914|54.59730362|   14.34953551|  -0.351230398|46.96278868|15.61755573|            34|        2|      7|                      0|                       1|                1|                     2|                      3|               5|            8|         2|            10|                5|                      0|                       1|                1|        6|\n",
            "|   00YRP22-079-097|451.571|451.1842097| 64.0|0.346002504|       425.363|  6.594|127.9914| 0.333333333|                166|     0.209496532|    -0.381288975|         1.03125|1.559484042|1228.340638|        -2.97|3.598282199E7|8.877486405| 190.018558|17.15178434|4.567099648|45.64163842|        0.0|27.74882062|47.84463225|    14.3393117|  -0.312897104|30.76739553|40.49458109|            32|        2|      6|                      0|                       1|                1|                     1|                      3|               4|            7|         2|             8|                6|                      0|                       1|                1|        5|\n",
            "|   00YRP22-085-055|463.541| 463.200825|81.07| 0.30974284|       438.341| 5.1877|137.9399| 0.107142857|                174|     0.251091445|    -0.491761742|     0.914285714|1.140382567|1445.754072|        -4.65|1.621252606E8|10.09069955|202.9773383|18.17425658|4.794537184|28.70678322|7.047671983|33.59387479| 97.1923496|   12.62695844|  -0.191225047|30.48129192|32.73426839|            35|        2|      7|                      0|                       0|                0|                     3|                      2|               5|            6|         2|             7|                8|                      0|                       0|                0|        5|\n",
            "|      01RTS-02-060|473.964|473.1618527|83.29| 0.39191371|       449.772| 5.6348|132.9544| 0.192307692|                172|     0.321454542|    -0.470382436|             1.0|1.421401067|1277.862821|        -3.84|9.374913558E7|  9.9696489|202.3444789|12.08102577|        0.0|29.13730346|        0.0| 33.9884941|77.60714761|   12.79768811|  -0.156458604|49.01033655|10.63357721|            34|        2|      7|                      0|                       1|                1|                     2|                      2|               4|            5|         2|             8|                5|                      0|                       0|                0|        5|\n",
            "|       EPYRB11-049|473.964|473.1618527|84.15|0.441357956|       449.772|4.94652|130.7982| 0.230769231|                172|      0.27556604|    -0.365581336|     1.058823529|1.455959475|1322.032852|        -3.71| 8.13976672E7|9.648673937|202.3305631| 11.5781102|4.794537184| 23.3259824|        0.0|39.02122257|65.18676562|   12.97555848|  -0.132893789|54.77712569|10.47345186|            34|        1|      7|                      0|                       1|                1|                     2|                      2|               4|            6|         1|             8|                5|                      0|                       0|                0|        5|\n",
            "+------------------+-------+-----------+-----+-----------+--------------+-------+--------+------------+-------------------+----------------+----------------+----------------+-----------+-----------+-------------+-------------+-----------+-----------+-----------+-----------+-----------+-----------+-----------+-----------+--------------+--------------+-----------+-----------+--------------+---------+-------+-----------------------+------------------------+-----------------+----------------------+-----------------------+----------------+-------------+----------+--------------+-----------------+-----------------------+------------------------+-----------------+---------+\n",
            "only showing top 20 rows\n",
            "\n"
          ]
        }
      ]
    },
    {
      "cell_type": "code",
      "source": [
        "# Configure settings for RDS\n",
        "# from './config.py' import db_password\n",
        "mode = \"append\"\n",
        "jdbc_url=\"jdbc:postgresql://purifai.ceoinb9nwfxg.us-west-1.rds.amazonaws.com:5432/postgres\"\n",
        "config = {\"user\":\"postgres\", \n",
        "          \"password\": \"purifai2022\", \n",
        "          \"driver\":\"org.postgresql.Driver\"}"
      ],
      "metadata": {
        "id": "MPbFINv3pj79"
      },
      "execution_count": null,
      "outputs": []
    },
    {
      "cell_type": "code",
      "source": [
        "# Write DataFrame to active_user table in RDS\n",
        "\n",
        "cleaned_outcomes_df.write.jdbc(url=jdbc_url, table='outcomes', mode=mode, properties=config)\n",
        "cleaned_structures_df.write.jdbc(url=jdbc_url, table='structures', mode=mode, properties=config)\n",
        "# SPE_analysis_df.write.jdbc(url=jdbc_url, table='SPE_analysis', mode=mode, properties=config)"
      ],
      "metadata": {
        "id": "YlLqIOpXtZzv"
      },
      "execution_count": null,
      "outputs": []
    }
  ]
}