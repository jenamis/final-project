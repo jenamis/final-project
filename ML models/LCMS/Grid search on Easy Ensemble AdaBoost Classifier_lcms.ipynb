{
 "cells": [
  {
   "cell_type": "code",
   "execution_count": 11,
   "metadata": {},
   "outputs": [],
   "source": [
    "import warnings\n",
    "warnings.filterwarnings('ignore')"
   ]
  },
  {
   "cell_type": "code",
   "execution_count": 12,
   "metadata": {},
   "outputs": [],
   "source": [
    "# Import dependencies\n",
    "import numpy as np\n",
    "from numpy import loadtxt\n",
    "import pandas as pd\n",
    "import sqlalchemy\n",
    "from sqlalchemy import create_engine, text\n",
    "from sklearn.preprocessing import LabelEncoder\n",
    "from sklearn.preprocessing import StandardScaler\n",
    "from sklearn.model_selection import train_test_split\n",
    "from imblearn.ensemble import BalancedRandomForestClassifier, EasyEnsembleClassifier\n",
    "from sklearn.metrics import balanced_accuracy_score, confusion_matrix\n",
    "from imblearn.metrics import classification_report_imbalanced\n",
    "from collections import Counter"
   ]
  },
  {
   "cell_type": "markdown",
   "metadata": {},
   "source": [
    "# Define Features and Target and Split and Scale Data"
   ]
  },
  {
   "cell_type": "code",
   "execution_count": 14,
   "metadata": {},
   "outputs": [],
   "source": [
    "# load data\n",
    "df = pd.read_csv(\"lcms_df.csv\")\n",
    "\n",
    "# Create features\n",
    "X = df.drop(columns = [\"preferred_lcms_method\", \"structure_id\"])\n",
    "\n",
    "# Create target\n",
    "y = df[\"preferred_lcms_method\"]"
   ]
  },
  {
   "cell_type": "code",
   "execution_count": 15,
   "metadata": {},
   "outputs": [
    {
     "data": {
      "text/plain": [
       "Xbridge HpH    729\n",
       "Gemini LpH     319\n",
       "Name: preferred_lcms_method, dtype: int64"
      ]
     },
     "execution_count": 15,
     "metadata": {},
     "output_type": "execute_result"
    }
   ],
   "source": [
    "# Check balance of target values\n",
    "y.value_counts()"
   ]
  },
  {
   "cell_type": "code",
   "execution_count": 16,
   "metadata": {},
   "outputs": [],
   "source": [
    "# Normal train-test split\n",
    "X_train, X_test, y_train, y_test = train_test_split(X, y, random_state = 1)"
   ]
  },
  {
   "cell_type": "code",
   "execution_count": 17,
   "metadata": {},
   "outputs": [
    {
     "data": {
      "text/plain": [
       "array([[ 0.59733689,  0.58882916,  0.92822901, ...,  1.15766035,\n",
       "         1.01840514, -1.11432097],\n",
       "       [ 0.11735691,  0.10851085,  0.5338891 , ...,  1.15766035,\n",
       "         1.01840514,  0.01727629],\n",
       "       [-0.37292342, -0.3724427 , -0.34769352, ..., -0.56894503,\n",
       "        -0.61519984,  0.01727629],\n",
       "       ...,\n",
       "       [-0.77102791, -0.77100915,  0.55035922, ..., -0.56894503,\n",
       "        -0.61519984,  0.01727629],\n",
       "       [-1.2995918 , -1.29924377,  1.29041326, ...,  1.15766035,\n",
       "         1.01840514, -1.11432097],\n",
       "       [-0.08062311, -0.07826255,  1.40469134, ...,  1.15766035,\n",
       "         1.01840514, -1.11432097]])"
      ]
     },
     "execution_count": 17,
     "metadata": {},
     "output_type": "execute_result"
    }
   ],
   "source": [
    "# Create StandardScaler instance\n",
    "scaler = StandardScaler()\n",
    "\n",
    "# Fit StandardScaler\n",
    "X_scaler = scaler.fit(X_train)\n",
    "\n",
    "# Scale data\n",
    "X_train_scaled = X_scaler.transform(X_train)\n",
    "X_test_scaled = X_scaler.transform(X_test)\n",
    "X_train_scaled"
   ]
  },
  {
   "cell_type": "markdown",
   "metadata": {},
   "source": [
    "### Grid search on Easy Ensemble AdaBoost "
   ]
  },
  {
   "cell_type": "code",
   "execution_count": 18,
   "metadata": {},
   "outputs": [
    {
     "name": "stdout",
     "output_type": "stream",
     "text": [
      "Parameters currently in use:\n",
      "\n",
      "{'base_estimator': None,\n",
      " 'n_estimators': 100,\n",
      " 'n_jobs': None,\n",
      " 'random_state': 1,\n",
      " 'replacement': False,\n",
      " 'sampling_strategy': 'auto',\n",
      " 'verbose': 0,\n",
      " 'warm_start': False}\n"
     ]
    }
   ],
   "source": [
    "from sklearn.model_selection import GridSearchCV\n",
    "from pprint import pprint\n",
    "\n",
    "# Look at parameters used by our current forest\n",
    "model = EasyEnsembleClassifier(n_estimators=100, random_state=1)\n",
    "print('Parameters currently in use:\\n')\n",
    "pprint(model.get_params())"
   ]
  },
  {
   "cell_type": "code",
   "execution_count": 20,
   "metadata": {},
   "outputs": [
    {
     "name": "stdout",
     "output_type": "stream",
     "text": [
      "Model Performance\n",
      "Balanced accuracy score: 0.8524247491638797\n"
     ]
    }
   ],
   "source": [
    "# Evaluate Random Search\n",
    "# Compare the base model with the best random search model.\n",
    "\n",
    "def evaluate(model, X_test_scaled, y_test):\n",
    "    y_pred = model.predict(X_test_scaled)\n",
    "    ba_score = balanced_accuracy_score(y_test, y_pred)\n",
    "    print('Model Performance')\n",
    "    print(f'Balanced accuracy score: {ba_score}')\n",
    "    return ba_score\n",
    "\n",
    "# performance of base model\n",
    "base_model = EasyEnsembleClassifier(n_estimators = 100, random_state = 1)\n",
    "base_model.fit(X_train_scaled, y_train)\n",
    "base_accuracy = evaluate(base_model, X_test_scaled, y_test)\n",
    "\n"
   ]
  },
  {
   "cell_type": "markdown",
   "metadata": {},
   "source": [
    "## Further improve our results by using grid search"
   ]
  },
  {
   "cell_type": "code",
   "execution_count": 21,
   "metadata": {},
   "outputs": [
    {
     "data": {
      "text/plain": [
       "{'n_estimators': 100}"
      ]
     },
     "execution_count": 21,
     "metadata": {},
     "output_type": "execute_result"
    }
   ],
   "source": [
    "#  further improve our results by using grid search to focus on the \n",
    "# most promising hyperparameters ranges found in the random search.\n",
    "\n",
    "from sklearn.model_selection import GridSearchCV\n",
    "# Create the parameter grid based on the results of random search \n",
    "params = {\n",
    " 'n_estimators': [i for i in range(50,800,50)]}\n",
    "\n",
    "# Create a based model\n",
    "model = EasyEnsembleClassifier(random_state = 1)\n",
    "# Instantiate the grid search model\n",
    "grid_search = GridSearchCV(model, param_grid=params, \n",
    "                          cv = 3, n_jobs = -1)\n",
    "\n",
    "# Fit the grid search to the data\n",
    "grid_search.fit(X_train_scaled, y_train)\n",
    "grid_search.best_params_"
   ]
  },
  {
   "cell_type": "code",
   "execution_count": 25,
   "metadata": {},
   "outputs": [
    {
     "name": "stdout",
     "output_type": "stream",
     "text": [
      "Model Performance\n",
      "Balanced accuracy score: 0.8524247491638797\n",
      "Improvement of best_grid on Easy Ensemble AdaBoost is 0.00%\n"
     ]
    }
   ],
   "source": [
    "# performance of the best_grid\n",
    "best_grid = grid_search.best_estimator_\n",
    "best_grid.fit(X_train_scaled, y_train)\n",
    "grid_accuracy = evaluate(best_grid, X_test_scaled, y_test)\n",
    "improvement = '{:0.2f}%'.format( 100 * (grid_accuracy - base_accuracy) / base_accuracy)\n",
    "print(f'Improvement of best_grid on Easy Ensemble AdaBoost is {improvement}')\n"
   ]
  },
  {
   "cell_type": "code",
   "execution_count": 23,
   "metadata": {},
   "outputs": [
    {
     "data": {
      "text/html": [
       "<div>\n",
       "<style scoped>\n",
       "    .dataframe tbody tr th:only-of-type {\n",
       "        vertical-align: middle;\n",
       "    }\n",
       "\n",
       "    .dataframe tbody tr th {\n",
       "        vertical-align: top;\n",
       "    }\n",
       "\n",
       "    .dataframe thead th {\n",
       "        text-align: right;\n",
       "    }\n",
       "</style>\n",
       "<table border=\"1\" class=\"dataframe\">\n",
       "  <thead>\n",
       "    <tr style=\"text-align: right;\">\n",
       "      <th></th>\n",
       "      <th>Name</th>\n",
       "      <th>Base model Balanced Accuracy</th>\n",
       "      <th>Grid model Balanced Accuracy</th>\n",
       "      <th>Improvement</th>\n",
       "    </tr>\n",
       "  </thead>\n",
       "  <tbody>\n",
       "    <tr>\n",
       "      <th>0</th>\n",
       "      <td>Easy Ensemble AdaBoost</td>\n",
       "      <td>0.852425</td>\n",
       "      <td>0.852425</td>\n",
       "      <td>0.00%</td>\n",
       "    </tr>\n",
       "  </tbody>\n",
       "</table>\n",
       "</div>"
      ],
      "text/plain": [
       "                     Name  Base model Balanced Accuracy  \\\n",
       "0  Easy Ensemble AdaBoost                      0.852425   \n",
       "\n",
       "   Grid model Balanced Accuracy Improvement  \n",
       "0                      0.852425       0.00%  "
      ]
     },
     "execution_count": 23,
     "metadata": {},
     "output_type": "execute_result"
    }
   ],
   "source": [
    "ee_list = {\n",
    "        \"Name\": 'Easy Ensemble AdaBoost',\n",
    "        \"Base model Balanced Accuracy\":base_accuracy,\n",
    "        \"Grid model Balanced Accuracy\":grid_accuracy,\n",
    "        \"Improvement\" : improvement\n",
    "    }\n",
    "df_ee = pd.DataFrame(ee_list, index=[0])\n",
    "df_ee"
   ]
  },
  {
   "cell_type": "code",
   "execution_count": 24,
   "metadata": {},
   "outputs": [],
   "source": [
    "df_ee.to_csv('df_ee.csv', index =False)"
   ]
  },
  {
   "cell_type": "code",
   "execution_count": null,
   "metadata": {},
   "outputs": [],
   "source": []
  }
 ],
 "metadata": {
  "kernelspec": {
   "display_name": "mlenv",
   "language": "python",
   "name": "mlenv"
  },
  "language_info": {
   "codemirror_mode": {
    "name": "ipython",
    "version": 3
   },
   "file_extension": ".py",
   "mimetype": "text/x-python",
   "name": "python",
   "nbconvert_exporter": "python",
   "pygments_lexer": "ipython3",
   "version": "3.7.7"
  },
  "vscode": {
   "interpreter": {
    "hash": "5ee25acbef1c5a7723ba4f22c9ae9afae522e16e75c89deb46b6dbae1067c479"
   }
  }
 },
 "nbformat": 4,
 "nbformat_minor": 2
}
